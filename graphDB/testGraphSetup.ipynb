{
 "cells": [
  {
   "cell_type": "code",
   "execution_count": 60,
   "id": "eca399da",
   "metadata": {},
   "outputs": [
    {
     "data": {
      "text/plain": [
       "True"
      ]
     },
     "execution_count": 60,
     "metadata": {},
     "output_type": "execute_result"
    }
   ],
   "source": [
    "from neo4j import GraphDatabase\n",
    "import pandas as pd\n",
    "import os\n",
    "from dotenv import load_dotenv\n",
    "from string import Template\n",
    "import string\n",
    "import re\n",
    "from embedding import SickEmbedder\n",
    "\n",
    "load_dotenv()"
   ]
  },
  {
   "cell_type": "markdown",
   "id": "a6475a92",
   "metadata": {},
   "source": [
    "### Define neo4j database"
   ]
  },
  {
   "cell_type": "code",
   "execution_count": 61,
   "id": "f306badf",
   "metadata": {},
   "outputs": [],
   "source": [
    "URI = \"bolt://localhost:7687\"\n",
    "AUTH = (\"neo4j\", os.getenv(\"DB_PASSWORD\"))\n",
    "\n",
    "def delete_nodes(tx):\n",
    "    tx.run(\"\"\"\n",
    "        MATCH(n)\n",
    "        DETACH DELETE n\n",
    "           \"\"\")\n",
    "    \n",
    "def drop_indexes(tx):\n",
    "    indexes = tx.run(\"SHOW INDEXES\")\n",
    "    for record in indexes:\n",
    "        index_name = record[\"name\"]\n",
    "        tx.run(f\"DROP INDEX {index_name}\")\n",
    "    \n",
    "def drop_constraints(tx):\n",
    "    constraints = tx.run(\"SHOW CONSTRAINTS\")\n",
    "    for record in constraints:\n",
    "        constraint_name = record[\"name\"]\n",
    "        tx.run(f\"DROP CONSTRAINT {constraint_name}\")\n",
    "\n",
    "def drop_myGraph(tx):\n",
    "    myGraph = tx.run(\"CALL gds.graph.exists('myGraph') YIELD exists RETURN exists\")\n",
    "    if myGraph.single()[\"exists\"]:\n",
    "        tx.run(\"CALL gds.graph.drop('myGraph') YIELD graphName RETURN graphName\")\n"
   ]
  },
  {
   "cell_type": "markdown",
   "id": "5a8a4f7c",
   "metadata": {},
   "source": [
    "Clear existing nodes."
   ]
  },
  {
   "cell_type": "code",
   "execution_count": 85,
   "id": "4dcfea44",
   "metadata": {},
   "outputs": [],
   "source": [
    "with GraphDatabase.driver(URI, auth=AUTH) as driver:\n",
    "    driver.verify_connectivity()\n",
    "    with driver.session() as session:\n",
    "        session.execute_write(delete_nodes)\n",
    "        session.execute_write(drop_indexes)\n",
    "        session.execute_write(drop_constraints)\n",
    "        session.execute_write(drop_myGraph)\n",
    "    driver.close()"
   ]
  },
  {
   "cell_type": "markdown",
   "id": "dba875b7",
   "metadata": {},
   "source": [
    "Create dataframes and embeddings."
   ]
  },
  {
   "cell_type": "code",
   "execution_count": 63,
   "id": "cefbbb1f",
   "metadata": {},
   "outputs": [],
   "source": [
    "df = pd.read_csv(\"../data/test.csv\")\n",
    "df = pd.concat([df.columns.to_frame().T, df])\n",
    "df.columns = range(len(df.columns))\n",
    "embedder = SickEmbedder(dims=1500)\n",
    "embedding_df = embedder.embed_df(df.copy())"
   ]
  },
  {
   "cell_type": "markdown",
   "id": "d312ffcb",
   "metadata": {},
   "source": [
    "Create nodes from dataframe:"
   ]
  },
  {
   "cell_type": "code",
   "execution_count": 86,
   "id": "9c896b4e",
   "metadata": {},
   "outputs": [],
   "source": [
    "def create_node(tx, title, paragraph, embedding):\n",
    "    tx.run(\"\"\"\n",
    "        MERGE (n:Concept {title: $title})\n",
    "        SET n.paragraph = $paragraph\n",
    "        SET n.embedding = $embedding\n",
    "    \"\"\", title=title, paragraph=paragraph, embedding=embedding)\n",
    "\n",
    "def create_vindex(tx):\n",
    "    tx.run(\"\"\"\n",
    "    CREATE VECTOR INDEX concept_embedding_index\n",
    "    FOR (n:Concept) ON (n.embedding)\n",
    "    OPTIONS { indexConfig: {\n",
    "    `vector.dimensions`: 1500,\n",
    "    `vector.similarity_function`: \"cosine\"\n",
    "    }}\n",
    "    \"\"\")"
   ]
  },
  {
   "cell_type": "code",
   "execution_count": 87,
   "id": "576cd157",
   "metadata": {},
   "outputs": [],
   "source": [
    "with GraphDatabase.driver(URI, auth=AUTH) as driver:\n",
    "    driver.verify_connectivity()\n",
    "    with driver.session() as session:\n",
    "        for i in range(df.shape[0]):\n",
    "            session.execute_write(create_node, df.iloc[i, 0], df.iloc[i, 1], embedding_df.iloc[i, 1])\n",
    "        session.execute_write(create_vindex)\n",
    "    driver.close()"
   ]
  },
  {
   "cell_type": "markdown",
   "id": "87fdbbc8",
   "metadata": {},
   "source": [
    "Create relationships based on similarities."
   ]
  },
  {
   "cell_type": "code",
   "execution_count": 77,
   "id": "48a67cb1",
   "metadata": {},
   "outputs": [],
   "source": [
    "from sklearn.metrics.pairwise import cosine_similarity\n",
    "import numpy as np"
   ]
  },
  {
   "cell_type": "code",
   "execution_count": 88,
   "id": "224aec0e",
   "metadata": {},
   "outputs": [],
   "source": [
    "def create_relation_df(embedding_df, threshold: float = 0.5, top_k: int = 3):\n",
    "\n",
    "    embeddings = np.stack(embedding_df.iloc[:, 1])\n",
    "    similarity_matrix = cosine_similarity(embeddings)\n",
    "\n",
    "    edges = []\n",
    "\n",
    "    for i in range(len(embedding_df)):\n",
    "        sims = similarity_matrix[i]\n",
    "        top_indices = sims.argsort()[-(top_k+1):-1][::-1]\n",
    "\n",
    "        for j in top_indices:\n",
    "            if sims[j] >= threshold:\n",
    "                edges.append((df.iloc[i, 0], df.iloc[j, 0], sims[j]))\n",
    "\n",
    "    edges_df = pd.DataFrame(edges, columns=[\"source\", \"target\", \"score\"])\n",
    "\n",
    "    return edges_df"
   ]
  },
  {
   "cell_type": "code",
   "execution_count": 89,
   "id": "857f694a",
   "metadata": {},
   "outputs": [],
   "source": [
    "def create_edges(tx, source, target, score):\n",
    "    tx.run(\"\"\"\n",
    "    MATCH (a:Concept {title: $source}), (b:Concept {title: $target})\n",
    "    MERGE (a)-[:SIMILAR_TO {score: $score}]->(b)\n",
    "    \"\"\", source=source, target=target, score=score)"
   ]
  },
  {
   "cell_type": "code",
   "execution_count": 80,
   "id": "497220e3",
   "metadata": {},
   "outputs": [
    {
     "name": "stdout",
     "output_type": "stream",
     "text": [
      "                            source                           target     score\n",
      "0    Chapter One: Human activities  The concept of human activities  0.628284\n",
      "1    Chapter One: Human activities        Types of human activities  0.622490\n",
      "2    Chapter One: Human activities   Importance of human activities  0.561819\n",
      "3  The concept of human activities    Chapter One: Human activities  0.628284\n",
      "4  The concept of human activities              Primary activities:  0.627824\n"
     ]
    }
   ],
   "source": [
    "print(create_relation_df(embedding_df).head())"
   ]
  },
  {
   "cell_type": "code",
   "execution_count": 90,
   "id": "080aaccf",
   "metadata": {},
   "outputs": [],
   "source": [
    "with GraphDatabase.driver(URI, auth=AUTH) as driver:\n",
    "    driver.verify_connectivity()\n",
    "    with driver.session() as session:\n",
    "        for _, row in create_relation_df(embedding_df).iterrows():\n",
    "            session.execute_write(\n",
    "                create_edges,\n",
    "                row['source'], row['target'], float(row['score'])\n",
    "            )\n",
    "    driver.close()"
   ]
  },
  {
   "cell_type": "code",
   "execution_count": 82,
   "id": "df84516b",
   "metadata": {},
   "outputs": [],
   "source": [
    "def create_catalog(tx):\n",
    "    tx.run(\"\"\"\n",
    "    MATCH (source:Concept)-[r:SIMILAR_TO]->(target:Concept)\n",
    "    RETURN gds.graph.project(\n",
    "    'myGraph',\n",
    "    source,\n",
    "    target,\n",
    "    {\n",
    "        relationshipProperties: r { .score }\n",
    "    },\n",
    "    { undirectedRelationshipTypes: ['*'] }\n",
    "    )\n",
    "    \"\"\")"
   ]
  },
  {
   "cell_type": "code",
   "execution_count": 91,
   "id": "32517a78",
   "metadata": {},
   "outputs": [],
   "source": [
    "with GraphDatabase.driver(URI, auth=AUTH) as driver:\n",
    "    driver.verify_connectivity()\n",
    "    with driver.session() as session:\n",
    "        session.execute_write(\n",
    "            create_catalog\n",
    "        )\n",
    "    driver.close()"
   ]
  },
  {
   "cell_type": "code",
   "execution_count": 92,
   "id": "f223926c",
   "metadata": {},
   "outputs": [],
   "source": [
    "def leiden_grouping(tx):\n",
    "    tx.run(\"\"\"\n",
    "    CALL gds.leiden.stream('myGraph', { randomSeed: 19 })\n",
    "    YIELD nodeId, communityId\n",
    "    RETURN gds.util.asNode(nodeId).title AS title, communityId\n",
    "    ORDER BY title ASC\n",
    "    \"\"\")"
   ]
  },
  {
   "cell_type": "code",
   "execution_count": null,
   "id": "34c18848",
   "metadata": {},
   "outputs": [],
   "source": [
    "with GraphDatabase.driver(URI, auth=AUTH) as driver:\n",
    "    driver.verify_connectivity()\n",
    "    with driver.session() as session:\n",
    "        session.execute_write(\n",
    "            leiden_grouping\n",
    "        )\n",
    "    driver.close()"
   ]
  }
 ],
 "metadata": {
  "kernelspec": {
   "display_name": "Python 3",
   "language": "python",
   "name": "python3"
  },
  "language_info": {
   "codemirror_mode": {
    "name": "ipython",
    "version": 3
   },
   "file_extension": ".py",
   "mimetype": "text/x-python",
   "name": "python",
   "nbconvert_exporter": "python",
   "pygments_lexer": "ipython3",
   "version": "3.12.5"
  }
 },
 "nbformat": 4,
 "nbformat_minor": 5
}
